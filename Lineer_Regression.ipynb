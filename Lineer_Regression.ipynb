{
 "cells": [
  {
   "cell_type": "markdown",
   "id": "ranging-fantasy",
   "metadata": {},
   "source": [
    "Öncelikle gerekli kütüphaneleri import edelim ve oluşturduğumuz çalışma dizininin içerisine gidelim."
   ]
  },
  {
   "cell_type": "code",
   "execution_count": 3,
   "id": "emerging-presentation",
   "metadata": {},
   "outputs": [],
   "source": [
    "import numpy as np\n",
    "import matplotlib.pyplot as plt\n",
    "import pandas as pd\n",
    "import os\n",
    "os.chdir('C:/Users/ORDU/Desktop/Lineer_Regression')"
   ]
  },
  {
   "cell_type": "markdown",
   "id": "horizontal-episode",
   "metadata": {},
   "source": [
    "İndirdiğimiz csv formatindaki dataset'i pandas kütüphanesi read_cvs() metodu yardımıyla okuma işlemini gerçekleştirelim."
   ]
  },
  {
   "cell_type": "code",
   "execution_count": 4,
   "id": "utility-special",
   "metadata": {},
   "outputs": [],
   "source": [
    "dataset = pd.read_csv('bisiklet_fiyatlari.csv')"
   ]
  },
  {
   "cell_type": "markdown",
   "id": "monthly-hollow",
   "metadata": {},
   "source": [
    "head() fonksiyonu yardımıyla dataset'imizin ilk 5 ögesini görüntüleyelim"
   ]
  },
  {
   "cell_type": "code",
   "execution_count": 18,
   "id": "synthetic-advance",
   "metadata": {},
   "outputs": [
    {
     "data": {
      "text/html": [
       "<div>\n",
       "<style scoped>\n",
       "    .dataframe tbody tr th:only-of-type {\n",
       "        vertical-align: middle;\n",
       "    }\n",
       "\n",
       "    .dataframe tbody tr th {\n",
       "        vertical-align: top;\n",
       "    }\n",
       "\n",
       "    .dataframe thead th {\n",
       "        text-align: right;\n",
       "    }\n",
       "</style>\n",
       "<table border=\"1\" class=\"dataframe\">\n",
       "  <thead>\n",
       "    <tr style=\"text-align: right;\">\n",
       "      <th></th>\n",
       "      <th>Fiyat</th>\n",
       "      <th>BisikletOzellik1</th>\n",
       "      <th>BisikletOzellik2</th>\n",
       "    </tr>\n",
       "  </thead>\n",
       "  <tbody>\n",
       "    <tr>\n",
       "      <th>0</th>\n",
       "      <td>807.673876</td>\n",
       "      <td>1749.628226</td>\n",
       "      <td>1749.590668</td>\n",
       "    </tr>\n",
       "    <tr>\n",
       "      <th>1</th>\n",
       "      <td>959.227520</td>\n",
       "      <td>1748.007826</td>\n",
       "      <td>1751.824206</td>\n",
       "    </tr>\n",
       "    <tr>\n",
       "      <th>2</th>\n",
       "      <td>718.020033</td>\n",
       "      <td>1750.122967</td>\n",
       "      <td>1747.977026</td>\n",
       "    </tr>\n",
       "    <tr>\n",
       "      <th>3</th>\n",
       "      <td>945.668885</td>\n",
       "      <td>1749.916440</td>\n",
       "      <td>1750.771646</td>\n",
       "    </tr>\n",
       "    <tr>\n",
       "      <th>4</th>\n",
       "      <td>955.542968</td>\n",
       "      <td>1750.780519</td>\n",
       "      <td>1750.592430</td>\n",
       "    </tr>\n",
       "  </tbody>\n",
       "</table>\n",
       "</div>"
      ],
      "text/plain": [
       "        Fiyat  BisikletOzellik1  BisikletOzellik2\n",
       "0  807.673876       1749.628226       1749.590668\n",
       "1  959.227520       1748.007826       1751.824206\n",
       "2  718.020033       1750.122967       1747.977026\n",
       "3  945.668885       1749.916440       1750.771646\n",
       "4  955.542968       1750.780519       1750.592430"
      ]
     },
     "execution_count": 18,
     "metadata": {},
     "output_type": "execute_result"
    }
   ],
   "source": [
    "dataset.head()"
   ]
  },
  {
   "cell_type": "markdown",
   "id": "stock-briefing",
   "metadata": {},
   "source": [
    "İki sütunumuz var. İlki Kıdem, ikincisi maaş. Burada kıdemin maaşa etkisini inceleyen basit doğrusal regresyon örneği yapacağız.Kıdem bağımsız değişken(x), maaş ise bağımlı değişkendir(y). Başka bir deyişle; çalışanın iş tecrübesi alacağı maaşı genellikle etkiler, gerçek hayattan da az çok bildiğimiz gibi bu etki pozitif yöndedir. Kuracağımız basit regresyon modelinde kıdem arttıkça maaş artar demeye getireceğiz."
   ]
  },
  {
   "cell_type": "markdown",
   "id": "objective-retention",
   "metadata": {},
   "source": [
    "Veri Setinden Bağımlı ve Bağımsız Değişkenleri Oluşturmak.Şimdi x nitelikler matrisini ve y bağımsız değişken vektörünü oluşturalım."
   ]
  },
  {
   "cell_type": "code",
   "execution_count": 6,
   "id": "excessive-covering",
   "metadata": {},
   "outputs": [],
   "source": [
    "X = dataset.iloc[:, 0:1].values\n",
    "##:, ile tüm değerleri getir\n",
    "y=dataset.iloc[:, 2:3].values"
   ]
  },
  {
   "cell_type": "code",
   "execution_count": 7,
   "id": "adjusted-reader",
   "metadata": {},
   "outputs": [
    {
     "data": {
      "text/plain": [
       "array([[ 807.6738764],\n",
       "       [ 959.2275201],\n",
       "       [ 718.0200329],\n",
       "       [ 945.6688847],\n",
       "       [ 955.5429676],\n",
       "       [ 950.2214253],\n",
       "       [ 972.0999123],\n",
       "       [ 730.7470179],\n",
       "       [ 653.0064296],\n",
       "       [1108.363012 ],\n",
       "       [1092.432411 ],\n",
       "       [ 831.9017301],\n",
       "       [1050.644778 ],\n",
       "       [ 932.4576656],\n",
       "       [ 827.4618849],\n",
       "       [ 886.0465092],\n",
       "       [ 889.7252105],\n",
       "       [1068.296866 ],\n",
       "       [ 566.4010835],\n",
       "       [ 780.8715318],\n",
       "       [ 633.7147302],\n",
       "       [ 758.4686205],\n",
       "       [ 983.5045088],\n",
       "       [1115.291836 ],\n",
       "       [ 914.9140132],\n",
       "       [ 822.1549425],\n",
       "       [ 950.4423736],\n",
       "       [ 989.5097974],\n",
       "       [ 927.5574942],\n",
       "       [1068.515289 ],\n",
       "       [ 844.4737208],\n",
       "       [ 573.2300709],\n",
       "       [1014.528968 ],\n",
       "       [ 784.7521757],\n",
       "       [1100.709911 ],\n",
       "       [ 939.3954013],\n",
       "       [ 997.617767 ],\n",
       "       [ 626.1947566],\n",
       "       [1071.148623 ],\n",
       "       [ 778.1894898],\n",
       "       [1050.207614 ],\n",
       "       [ 916.1829736],\n",
       "       [ 897.6624037],\n",
       "       [1076.042305 ],\n",
       "       [ 707.6178069],\n",
       "       [1126.454907 ],\n",
       "       [ 855.674057 ],\n",
       "       [ 775.6082   ],\n",
       "       [ 900.3383662],\n",
       "       [ 901.043046 ],\n",
       "       [ 568.8524138],\n",
       "       [ 970.6586024],\n",
       "       [ 789.93495  ],\n",
       "       [1028.438035 ],\n",
       "       [ 836.0406201],\n",
       "       [1005.402312 ],\n",
       "       [ 960.5938984],\n",
       "       [ 925.2090462],\n",
       "       [ 775.6192584],\n",
       "       [ 696.2936631],\n",
       "       [ 622.6418664],\n",
       "       [ 806.2158674],\n",
       "       [ 935.842904 ],\n",
       "       [ 940.8117826],\n",
       "       [1056.422331 ],\n",
       "       [ 957.7326352],\n",
       "       [ 992.7900877],\n",
       "       [ 795.0757731],\n",
       "       [ 862.0579003],\n",
       "       [1125.487881 ],\n",
       "       [ 835.5034035],\n",
       "       [ 870.4719071],\n",
       "       [ 978.3266243],\n",
       "       [1009.187267 ],\n",
       "       [ 511.3356169],\n",
       "       [ 950.2419499],\n",
       "       [ 958.5309692],\n",
       "       [ 888.010185 ],\n",
       "       [ 714.2135013],\n",
       "       [1042.0086   ],\n",
       "       [ 810.8716063],\n",
       "       [ 819.6247158],\n",
       "       [ 808.5084033],\n",
       "       [ 718.1284671],\n",
       "       [ 818.0560422],\n",
       "       [ 870.1696257],\n",
       "       [ 720.3664031],\n",
       "       [1020.365472 ],\n",
       "       [ 773.4131421],\n",
       "       [ 938.071591 ],\n",
       "       [ 929.2275552],\n",
       "       [ 637.8897366],\n",
       "       [1095.62014  ],\n",
       "       [ 760.6019926],\n",
       "       [ 915.2910235],\n",
       "       [ 847.1904158],\n",
       "       [ 720.2573123],\n",
       "       [1263.961903 ],\n",
       "       [ 909.0602356]])"
      ]
     },
     "execution_count": 7,
     "metadata": {},
     "output_type": "execute_result"
    }
   ],
   "source": [
    "X"
   ]
  },
  {
   "cell_type": "code",
   "execution_count": 15,
   "id": "noticed-compiler",
   "metadata": {},
   "outputs": [
    {
     "data": {
      "text/plain": [
       "array([[1749.590668],\n",
       "       [1751.824206],\n",
       "       [1747.977026],\n",
       "       [1750.771646],\n",
       "       [1750.59243 ],\n",
       "       [1751.099011],\n",
       "       [1750.778662],\n",
       "       [1748.037351],\n",
       "       [1747.332994],\n",
       "       [1752.790342],\n",
       "       [1750.855601],\n",
       "       [1749.2369  ],\n",
       "       [1752.425774],\n",
       "       [1749.893437],\n",
       "       [1750.096879],\n",
       "       [1749.70124 ],\n",
       "       [1751.256074],\n",
       "       [1750.851538],\n",
       "       [1746.810549],\n",
       "       [1747.851739],\n",
       "       [1748.17437 ],\n",
       "       [1748.500451],\n",
       "       [1749.610612],\n",
       "       [1751.886485],\n",
       "       [1750.954059],\n",
       "       [1749.000053],\n",
       "       [1750.716489],\n",
       "       [1751.783591],\n",
       "       [1750.483304],\n",
       "       [1751.474736],\n",
       "       [1750.105018],\n",
       "       [1746.458225],\n",
       "       [1751.620021],\n",
       "       [1749.481991],\n",
       "       [1751.943308],\n",
       "       [1749.58896 ],\n",
       "       [1750.904433],\n",
       "       [1748.303847],\n",
       "       [1750.689555],\n",
       "       [1749.840062],\n",
       "       [1752.160562],\n",
       "       [1751.183114],\n",
       "       [1751.334307],\n",
       "       [1750.969123],\n",
       "       [1748.59648 ],\n",
       "       [1753.598271],\n",
       "       [1749.610684],\n",
       "       [1748.180213],\n",
       "       [1750.285228],\n",
       "       [1749.200642],\n",
       "       [1746.609264],\n",
       "       [1749.703528],\n",
       "       [1749.804005],\n",
       "       [1750.975769],\n",
       "       [1749.230631],\n",
       "       [1749.859981],\n",
       "       [1751.516754],\n",
       "       [1750.567466],\n",
       "       [1748.167051],\n",
       "       [1749.642171],\n",
       "       [1746.747469],\n",
       "       [1750.090361],\n",
       "       [1750.870413],\n",
       "       [1750.254453],\n",
       "       [1751.531186],\n",
       "       [1751.276294],\n",
       "       [1750.735763],\n",
       "       [1749.77945 ],\n",
       "       [1749.897858],\n",
       "       [1752.91177 ],\n",
       "       [1749.82092 ],\n",
       "       [1749.033897],\n",
       "       [1750.463821],\n",
       "       [1751.728759],\n",
       "       [1747.370439],\n",
       "       [1750.662669],\n",
       "       [1749.416565],\n",
       "       [1749.321272],\n",
       "       [1747.745612],\n",
       "       [1751.883994],\n",
       "       [1749.758469],\n",
       "       [1750.038832],\n",
       "       [1749.769697],\n",
       "       [1747.851167],\n",
       "       [1749.052522],\n",
       "       [1749.931562],\n",
       "       [1748.758826],\n",
       "       [1750.976167],\n",
       "       [1748.65867 ],\n",
       "       [1751.12579 ],\n",
       "       [1750.377973],\n",
       "       [1747.241863],\n",
       "       [1751.695269],\n",
       "       [1748.944351],\n",
       "       [1749.481392],\n",
       "       [1749.589853],\n",
       "       [1748.276758],\n",
       "       [1753.658535],\n",
       "       [1751.701046]])"
      ]
     },
     "execution_count": 15,
     "metadata": {},
     "output_type": "execute_result"
    }
   ],
   "source": [
    "y"
   ]
  },
  {
   "cell_type": "markdown",
   "id": "convertible-tooth",
   "metadata": {},
   "source": [
    "Değişkenlerimizi eğitim ve test olmak üzere ikiye bölelim.Veri setinden eğitim için 2/3, test için 1/3 oranında veri ayıralım.\n",
    "\n"
   ]
  },
  {
   "cell_type": "code",
   "execution_count": 16,
   "id": "shaped-stage",
   "metadata": {},
   "outputs": [],
   "source": [
    "from sklearn.model_selection import train_test_split\n",
    "X_train, X_test, y_train, y_test = train_test_split(X, y, test_size = 1/3, random_state = 0)"
   ]
  },
  {
   "cell_type": "markdown",
   "id": "effective-abraham",
   "metadata": {},
   "source": [
    "X_train ve buna karşılık gelen y_train verisiyle modelimizi eğiteceğiz. Bunun için scikit-learn kütüphanesinden LinearRegression sınıfına ihtiyacımız olacak. Kütüphaneyi indirip sınıf nesnemizi oluşturalım"
   ]
  },
  {
   "cell_type": "code",
   "execution_count": 17,
   "id": "induced-peace",
   "metadata": {},
   "outputs": [],
   "source": [
    "from sklearn.linear_model import LinearRegression\n",
    "regressor = LinearRegression()"
   ]
  },
  {
   "cell_type": "markdown",
   "id": "restricted-baltimore",
   "metadata": {},
   "source": [
    "regressor nesnemizi yarattık. Şimdi fit() metodunu kullanarak modelimizi eğitiyoruz. Parametre olarak yukarıda oluşturduğumuz X_train, y_train eğitim setlerimizi kullanacağız."
   ]
  },
  {
   "cell_type": "code",
   "execution_count": 18,
   "id": "downtown-modern",
   "metadata": {},
   "outputs": [
    {
     "data": {
      "text/plain": [
       "LinearRegression()"
      ]
     },
     "execution_count": 18,
     "metadata": {},
     "output_type": "execute_result"
    }
   ],
   "source": [
    "regressor.fit(X_train, y_train)"
   ]
  },
  {
   "cell_type": "markdown",
   "id": "fiscal-swimming",
   "metadata": {},
   "source": [
    "Model üzerinde tahminler yapmak için model oluşturduk. Şimdi sıra eğittiğimiz modele girdiler verelim bakalım bize nasıl sonuçlar üretecek. Bunun için nitelikler matrisinden ayırdığımız X_test verilerini kullanacağız. Daha önce oluşturduğumuz makineyi (regressor) yine kullanıyoruz ancak bu sefer fit() metodu değil de predict() metodu."
   ]
  },
  {
   "cell_type": "code",
   "execution_count": 19,
   "id": "fabulous-craps",
   "metadata": {},
   "outputs": [],
   "source": [
    "y_pred = regressor.predict(X_test)"
   ]
  },
  {
   "cell_type": "code",
   "execution_count": 20,
   "id": "sweet-virtue",
   "metadata": {},
   "outputs": [
    {
     "data": {
      "text/plain": [
       "array([[1750.64664181],\n",
       "       [1748.54418762],\n",
       "       [1748.52274629],\n",
       "       [1751.1488705 ],\n",
       "       [1750.64481032],\n",
       "       [1751.97328884],\n",
       "       [1750.09180311],\n",
       "       [1751.18345775],\n",
       "       [1749.60122866],\n",
       "       [1750.32542572],\n",
       "       [1751.35937293],\n",
       "       [1747.79050869],\n",
       "       [1748.48796187],\n",
       "       [1750.48229599],\n",
       "       [1748.63904658],\n",
       "       [1749.67829106],\n",
       "       [1750.94876647],\n",
       "       [1750.32198057],\n",
       "       [1749.1325504 ],\n",
       "       [1747.92864634],\n",
       "       [1751.79438489],\n",
       "       [1750.51323059],\n",
       "       [1750.60302126],\n",
       "       [1749.91586475],\n",
       "       [1752.25505962],\n",
       "       [1750.18878704],\n",
       "       [1750.84455028],\n",
       "       [1750.26848824],\n",
       "       [1749.34963687],\n",
       "       [1750.7205561 ],\n",
       "       [1747.65117233],\n",
       "       [1749.37123203],\n",
       "       [1750.53359653]])"
      ]
     },
     "execution_count": 20,
     "metadata": {},
     "output_type": "execute_result"
    }
   ],
   "source": [
    "y_pred"
   ]
  },
  {
   "cell_type": "markdown",
   "id": "material-moment",
   "metadata": {},
   "source": [
    "Regresyon grafiği çizmek ve yorumlamak matplotlib.pyplot kütüphanesini kullanarak kurduğumuz modeli, tahminleri, regresyon doğrusunu ve veri noktalarını (data points) görelim. Önce eğitim veri setinin (gerçek veriler) saçılma diyagramını çizelim"
   ]
  },
  {
   "cell_type": "code",
   "execution_count": 21,
   "id": "young-disco",
   "metadata": {},
   "outputs": [
    {
     "data": {
      "image/png": "[encoded data removed]",
      "text/plain": [
       "<Figure size 432x288 with 1 Axes>"
      ]
     },
     "metadata": {
      "needs_background": "light"
     },
     "output_type": "display_data"
    }
   ],
   "source": [
    "plt.scatter(X_train, y_train, color = 'red')\n",
    "plt.title('Bisiklet fiyatları')\n",
    "plt.xlabel('BisikletÖzellik1')\n",
    "plt.ylabel('BisikletÖzellik2')\n",
    "plt.show()"
   ]
  },
  {
   "cell_type": "markdown",
   "id": "eleven-physiology",
   "metadata": {},
   "source": [
    "Yukarıdaki grafikte eğitim için ayırdığımız verilerin saçılma diyagramını görüyoruz. İlk bakışta zaten doğrusal pozitif bir ilişki göze çarpıyor. Şimdi Aynı gerçek eğitim verisini modelimize verelim ve bize maaş değerlerini tahmin etsin ve bunun grafiğini çizelim."
   ]
  },
  {
   "cell_type": "code",
   "execution_count": 23,
   "id": "temporal-oliver",
   "metadata": {},
   "outputs": [
    {
     "data": {
      "image/png": "[encoded data removed]",
      "text/plain": [
       "<Figure size 432x288 with 1 Axes>"
      ]
     },
     "metadata": {
      "needs_background": "light"
     },
     "output_type": "display_data"
    }
   ],
   "source": [
    "plt.scatter(X_train, y_train, color = 'red')\n",
    "modelin_tahmin_ettigi_y = regressor.predict(X_train)\n",
    "plt.scatter(X_train, modelin_tahmin_ettigi_y, color = 'blue')\n",
    "plt.title('Bisiklet fiyatları')\n",
    "plt.xlabel('BisikletÖzellik1')\n",
    "plt.ylabel('BisikletÖzellik2')\n",
    "plt.show()"
   ]
  },
  {
   "cell_type": "markdown",
   "id": "premium-alabama",
   "metadata": {},
   "source": [
    "Gördüğümüz gibi eğittiğimiz modele tekrar aynı girdileri (X_train) verdiğimizde bize mavi noktaları söylüyor. Regresyon doğrusu olarak da sadece geriye mavi noktaları birleştirmek kalıyor."
   ]
  },
  {
   "cell_type": "code",
   "execution_count": 44,
   "id": "arranged-concentration",
   "metadata": {},
   "outputs": [
    {
     "data": {
      "image/png": "[encoded data removed]",
      "text/plain": [
       "<Figure size 432x288 with 1 Axes>"
      ]
     },
     "metadata": {
      "needs_background": "light"
     },
     "output_type": "display_data"
    }
   ],
   "source": [
    "plt.scatter(X_train, y_train, color = 'red')\n",
    "modelin_tahmin_ettigi_y = regressor.predict(X_train)\n",
    "plt.plot(X_train, modelin_tahmin_ettigi_y, color = 'blue')\n",
    "plt.title('Bisiklet fiyatları')\n",
    "plt.xlabel('BisikletÖzellik1')\n",
    "plt.ylabel('BisikletÖzellik2')\n",
    "plt.show()"
   ]
  }
 ],
 "metadata": {
  "kernelspec": {
   "display_name": "Python 3",
   "language": "python",
   "name": "python3"
  },
  "language_info": {
   "codemirror_mode": {
    "name": "ipython",
    "version": 3
   },
   "file_extension": ".py",
   "mimetype": "text/x-python",
   "name": "python",
   "nbconvert_exporter": "python",
   "pygments_lexer": "ipython3",
   "version": "3.7.1"
  }
 },
 "nbformat": 4,
 "nbformat_minor": 5
}
